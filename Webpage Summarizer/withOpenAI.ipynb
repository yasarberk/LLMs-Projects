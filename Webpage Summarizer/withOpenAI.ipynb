{
 "cells": [
  {
   "cell_type": "code",
   "execution_count": null,
   "id": "a6fb309e-70a9-4e72-a05b-a0a4c0a845f0",
   "metadata": {},
   "outputs": [],
   "source": [
    "# imports\n",
    "\n",
    "import os\n",
    "import requests\n",
    "from dotenv import load_dotenv\n",
    "from bs4 import BeautifulSoup\n",
    "from IPython.display import Markdown, display\n",
    "from openai import OpenAI"
   ]
  },
  {
   "cell_type": "code",
   "execution_count": null,
   "id": "16650f88-9c87-4017-bd46-e3b5ee03de3b",
   "metadata": {},
   "outputs": [],
   "source": [
    "# Load environment variables in a file called .env\n",
    "#You have to use your API Key or you can check the same project with the Ollama\n",
    "\n",
    "load_dotenv(override=True)\n",
    "api_key = os.getenv('OPENAI_API_KEY')\n",
    "\n",
    "# Check the key\n",
    "\n",
    "if not api_key:\n",
    "    print(\"No API key was found!!\")\n",
    "elif not api_key.startswith(\"sk-proj-\"):\n",
    "    print(\"An API key was found, but it doesn't start sk-proj-; please check you're using the right key\")\n",
    "elif api_key.strip() != api_key:\n",
    "    print(\"An API key was found, but it looks like it might have space or tab characters at the start or end. Please remove them\")\n",
    "else:\n",
    "    print(\"API key found and everything is fine so far!\")\n"
   ]
  },
  {
   "cell_type": "code",
   "execution_count": null,
   "id": "41a6a0fa-b438-4b81-be18-134f0ecc5b76",
   "metadata": {},
   "outputs": [],
   "source": [
    "openai = OpenAI()"
   ]
  },
  {
   "cell_type": "code",
   "execution_count": null,
   "id": "efdd8ebd-6e7a-45ff-8335-b7321846a71c",
   "metadata": {},
   "outputs": [],
   "source": [
    "#Quick check with simple example\n",
    "\n",
    "message = \"Hello, GPT! This is my first ever message to you! Hi!\"\n",
    "response = openai.chat.completions.create(model=\"gpt-4o-mini\", messages=[{\"role\":\"user\", \"content\":message}])\n",
    "print(response.choices[0].message.content)"
   ]
  },
  {
   "cell_type": "code",
   "execution_count": null,
   "id": "94de948b-cf77-4dad-ad13-583c40e2c3d1",
   "metadata": {},
   "outputs": [],
   "source": [
    "# Some websites need you to use proper headers when fetching them:\n",
    "headers = {\n",
    " \"User-Agent\": \"Mozilla/5.0 (Windows NT 10.0; Win64; x64) AppleWebKit/537.36 (KHTML, like Gecko) Chrome/117.0.0.0 Safari/537.36\"\n",
    "}\n",
    "\n",
    "# A class to represent a Webpage\n",
    "class Website:\n",
    "\n",
    "    def __init__(self, url):\n",
    "        \"\"\"\n",
    "        Create this Website object from the given url using the BeautifulSoup library\n",
    "        \"\"\"\n",
    "        self.url = url\n",
    "        response = requests.get(url, headers=headers)\n",
    "        soup = BeautifulSoup(response.content, 'html.parser')\n",
    "        self.title = soup.title.string if soup.title else \"No title found\"\n",
    "        for irrelevant in soup.body([\"script\", \"style\", \"img\", \"input\"]):\n",
    "            irrelevant.decompose()\n",
    "        self.text = soup.body.get_text(separator=\"\\n\", strip=True)"
   ]
  },
  {
   "cell_type": "code",
   "execution_count": null,
   "id": "3476066c-6bf9-4fd9-bce5-b8475b1b3f5a",
   "metadata": {
    "scrolled": true
   },
   "outputs": [],
   "source": [
    "#Let's check the one website for an example\n",
    "ex = Website(\"https://vg247.com\")\n",
    "print(ex.title)\n",
    "print(ex.text)"
   ]
  },
  {
   "cell_type": "code",
   "execution_count": null,
   "id": "e133acfb-1734-4718-b75e-283505a5e3fd",
   "metadata": {},
   "outputs": [],
   "source": [
    "# Let's define our system prompt\n",
    "\n",
    "system_prompt = \"You are an assistant that analyzes the contents of a website \\\n",
    "and provides a short summary, ignoring text that might be navigation related. \\\n",
    "Respond in markdown.\""
   ]
  },
  {
   "cell_type": "code",
   "execution_count": null,
   "id": "c1e68d00-3418-43cd-96c6-744cb2f02eea",
   "metadata": {},
   "outputs": [],
   "source": [
    "# A function that writes a User Prompt that asks for summaries of websites:\n",
    "\n",
    "def user_prompt_for(website):\n",
    "    user_prompt = f\"You are looking at a website titled {website.title}\"\n",
    "    user_prompt += \"\\nThe contents of this website is as follows; \\\n",
    "please provide a short summary of this website in markdown. \\\n",
    "If it includes news or announcements, then summarize these too.\\n\\n\"\n",
    "    user_prompt += website.text\n",
    "    return user_prompt"
   ]
  },
  {
   "cell_type": "code",
   "execution_count": null,
   "id": "928c083e-1917-4a5c-8cbb-71a17a3efc6a",
   "metadata": {
    "scrolled": true
   },
   "outputs": [],
   "source": [
    "#Function check\n",
    "\n",
    "print(user_prompt_for(ex))"
   ]
  },
  {
   "cell_type": "markdown",
   "id": "1bf1a3b3-a463-4edf-acc6-45cd50f66703",
   "metadata": {},
   "source": [
    "# Let's ask to OpenAI"
   ]
  },
  {
   "cell_type": "code",
   "execution_count": null,
   "id": "6b10937c-e65e-4d2c-8628-159262e09dde",
   "metadata": {},
   "outputs": [],
   "source": [
    "def messages_for(website):\n",
    "    return [\n",
    "        {\"role\": \"system\", \"content\": system_prompt},\n",
    "        {\"role\": \"user\", \"content\": user_prompt_for(website)}\n",
    "    ]"
   ]
  },
  {
   "cell_type": "code",
   "execution_count": null,
   "id": "95982ae9-363f-4160-87b5-73a4a29c71a6",
   "metadata": {},
   "outputs": [],
   "source": [
    "# And now: call the OpenAI API\n",
    "\n",
    "def summarize(url):\n",
    "    website = Website(url)\n",
    "    response = openai.chat.completions.create(\n",
    "        model = \"gpt-4o-mini\",\n",
    "        messages = messages_for(website)\n",
    "    )\n",
    "    return response.choices[0].message.content"
   ]
  },
  {
   "cell_type": "code",
   "execution_count": null,
   "id": "12a645ab-62a9-4390-9a87-b6cc800abee4",
   "metadata": {},
   "outputs": [],
   "source": [
    "summarize(\"https://geekozmos.com\")"
   ]
  },
  {
   "cell_type": "code",
   "execution_count": null,
   "id": "11ff8cff-5b55-479a-9549-ff599d33064d",
   "metadata": {},
   "outputs": [],
   "source": [
    "# A function to display this nicely in the Jupyter output, using markdown\n",
    "\n",
    "def display_summary(url):\n",
    "    summary = summarize(url)\n",
    "    display(Markdown(summary))"
   ]
  },
  {
   "cell_type": "code",
   "execution_count": null,
   "id": "588096b6-f808-453e-8b7d-6ebd925844ed",
   "metadata": {},
   "outputs": [],
   "source": [
    "display_summary(\"https://geekozmos.com\")"
   ]
  },
  {
   "cell_type": "code",
   "execution_count": null,
   "id": "70164b7f-b7d7-41d4-b34c-cd69f733fe35",
   "metadata": {},
   "outputs": [],
   "source": [
    "#You can try more. For example:\n",
    "\n",
    "display_summary(\"https://cnn.com\")"
   ]
  }
 ],
 "metadata": {
  "kernelspec": {
   "display_name": "Python 3 (ipykernel)",
   "language": "python",
   "name": "python3"
  },
  "language_info": {
   "codemirror_mode": {
    "name": "ipython",
    "version": 3
   },
   "file_extension": ".py",
   "mimetype": "text/x-python",
   "name": "python",
   "nbconvert_exporter": "python",
   "pygments_lexer": "ipython3",
   "version": "3.11.11"
  }
 },
 "nbformat": 4,
 "nbformat_minor": 5
}
