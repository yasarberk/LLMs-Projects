{
 "cells": [
  {
   "cell_type": "code",
   "execution_count": null,
   "id": "fd7ff021-3e37-468e-ac7f-5a38673b9823",
   "metadata": {},
   "outputs": [],
   "source": [
    "# Imports\n",
    "import os\n",
    "from dotenv import load_dotenv\n",
    "from openai import OpenAI\n",
    "import google.generativeai"
   ]
  },
  {
   "cell_type": "code",
   "execution_count": null,
   "id": "262feb21-6a87-470f-85c3-353dfd39f8e7",
   "metadata": {},
   "outputs": [],
   "source": [
    "# Load environment variables\n",
    "load_dotenv(override=True)\n",
    "openai_api_key = os.getenv('OPENAI_API_KEY')\n",
    "google_api_key = os.getenv('GOOGLE_API_KEY')\n",
    "\n",
    "# Debugging: Check API key availability\n",
    "print(f\"OpenAI API Key: {'Exists' if openai_api_key else 'Not set'}\")\n",
    "print(f\"Google API Key: {'Exists' if google_api_key else 'Not set'}\")"
   ]
  },
  {
   "cell_type": "code",
   "execution_count": null,
   "id": "8255d9cc-e354-48b8-ac07-0e1d6f03cd65",
   "metadata": {},
   "outputs": [],
   "source": [
    "# Initialize OpenAI and Google Generative AI\n",
    "openai = OpenAI()\n",
    "google.generativeai.configure()\n",
    "\n",
    "# Model configurations\n",
    "gpt_model = \"gpt-4o-mini\"\n",
    "google_model = \"gemini-2.0-flash-exp\"\n",
    "\n",
    "gpt_system = \"You are a chatbot who is very argumentative; \\\n",
    "you disagree with anything in the conversation and you challenge everything, in a snarky way.\"\n",
    "\n",
    "google_system = \"You are a very polite, courteous chatbot. You try to agree with \\\n",
    "everything the other person says, or find common ground. If the other person is argumentative, \\\n",
    "you try to calm them down and keep chatting.\"\n",
    "\n",
    "# Initialize message history\n",
    "gpt_messages = [\"Hi there\"]\n",
    "google_messages = [\"Hi\"]"
   ]
  },
  {
   "cell_type": "code",
   "execution_count": null,
   "id": "8bbdeb9d-4fea-4068-89dc-c80a2eda0376",
   "metadata": {},
   "outputs": [],
   "source": [
    "# Model functions\n",
    "\n",
    "def call_gpt():\n",
    "    messages = [{\"role\": \"system\", \"content\": gpt_system}]\n",
    "    for gpt, google in zip(gpt_messages, google_messages):\n",
    "        messages.append({\"role\": \"assistant\", \"content\": gpt})\n",
    "        messages.append({\"role\": \"user\", \"content\": google})\n",
    "    \n",
    "    completion = openai.chat.completions.create(\n",
    "        model=gpt_model,\n",
    "        messages=messages\n",
    "    )\n",
    "    return completion.choices[0].message.content\n",
    "\n",
    "def call_google():\n",
    "    messages = []\n",
    "    for gpt, google_message in zip(gpt_messages, google_messages):\n",
    "        messages.append({\"role\": \"user\", \"content\": gpt})\n",
    "        messages.append({\"role\": \"assistant\", \"content\": google_message})\n",
    "    messages.append({\"role\": \"user\", \"content\": gpt_messages[-1]})\n",
    "\n",
    "    model = google.generativeai.GenerativeModel(\n",
    "        model_name=google_model,\n",
    "        system_instruction=google_system\n",
    "    )\n",
    "    \n",
    "    response = model.generate_content([m[\"content\"] for m in messages])\n",
    "    return response.text"
   ]
  },
  {
   "cell_type": "code",
   "execution_count": null,
   "id": "99c6b63e-57ce-45da-be6f-c64843edcb0d",
   "metadata": {},
   "outputs": [],
   "source": [
    "# Conversation loop\n",
    "print(f\"GPT:\\n{gpt_messages[0]}\\n\")\n",
    "print(f\"Google:\\n{google_messages[0]}\\n\")\n",
    "\n",
    "for _ in range(5):\n",
    "    gpt_next = call_gpt()\n",
    "    print(f\"GPT:\\n{gpt_next}\\n\")\n",
    "    gpt_messages.append(gpt_next)\n",
    "    \n",
    "    google_next = call_google()\n",
    "    print(f\"Google:\\n{google_next}\\n\")\n",
    "    google_messages.append(google_next)"
   ]
  }
 ],
 "metadata": {
  "kernelspec": {
   "display_name": "Python 3 (ipykernel)",
   "language": "python",
   "name": "python3"
  },
  "language_info": {
   "codemirror_mode": {
    "name": "ipython",
    "version": 3
   },
   "file_extension": ".py",
   "mimetype": "text/x-python",
   "name": "python",
   "nbconvert_exporter": "python",
   "pygments_lexer": "ipython3",
   "version": "3.11.11"
  }
 },
 "nbformat": 4,
 "nbformat_minor": 5
}
