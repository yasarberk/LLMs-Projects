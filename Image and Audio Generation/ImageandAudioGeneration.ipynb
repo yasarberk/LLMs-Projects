{
 "cells": [
  {
   "cell_type": "markdown",
   "id": "fd382927-b400-44a2-8fbc-645f44bdfb68",
   "metadata": {},
   "source": [
    "# Image Generation with DALL-E 3"
   ]
  },
  {
   "cell_type": "code",
   "execution_count": null,
   "id": "504be77d-980e-409b-87b6-455369f5a1db",
   "metadata": {},
   "outputs": [],
   "source": [
    "# imports\n",
    "\n",
    "import os\n",
    "import json\n",
    "from dotenv import load_dotenv\n",
    "from openai import OpenAI\n",
    "import base64\n",
    "from io import BytesIO\n",
    "from PIL import Image\n",
    "from IPython.display import Audio, display"
   ]
  },
  {
   "cell_type": "code",
   "execution_count": null,
   "id": "cae70d8a-1621-4769-b70a-302704aa2c04",
   "metadata": {},
   "outputs": [],
   "source": [
    "# Initialization\n",
    "\n",
    "load_dotenv(override=True)\n",
    "\n",
    "openai_api_key = os.getenv('OPENAI_API_KEY')\n",
    "if openai_api_key:\n",
    "    print(f\"OpenAI API Key exists and begins {openai_api_key[:8]}\")\n",
    "else:\n",
    "    print(\"OpenAI API Key not set\")\n",
    "    \n",
    "MODEL = \"dall-e-3\"\n",
    "openai = OpenAI()"
   ]
  },
  {
   "cell_type": "code",
   "execution_count": null,
   "id": "57faab0c-14c5-4533-a041-7e0e7052ebd9",
   "metadata": {},
   "outputs": [],
   "source": [
    "def artist(city):\n",
    "    image_response = openai.images.generate(\n",
    "            model=MODEL,\n",
    "            prompt=f\"An image representing a vacation in {city}, showing tourist spots and everything unique about {city}, in a vibrant pop-art style\",\n",
    "            size=\"1024x1024\",\n",
    "            n=1,\n",
    "            response_format=\"b64_json\",\n",
    "        )\n",
    "    image_base64 = image_response.data[0].b64_json\n",
    "    image_data = base64.b64decode(image_base64)\n",
    "    return Image.open(BytesIO(image_data))"
   ]
  },
  {
   "cell_type": "code",
   "execution_count": null,
   "id": "ada0be8b-5698-4729-8363-a055f205b3e4",
   "metadata": {},
   "outputs": [],
   "source": [
    "image = artist(\"New York\")\n",
    "display(image)"
   ]
  },
  {
   "cell_type": "code",
   "execution_count": null,
   "id": "df94ba05-f516-4360-8e4c-9264488c9d94",
   "metadata": {},
   "outputs": [],
   "source": [
    "# You can save the image if you want\n",
    "image.save(\"New-York.jpg\")"
   ]
  },
  {
   "cell_type": "markdown",
   "id": "59ac56c8-2e5d-4590-b1b9-9e0de9f8a394",
   "metadata": {},
   "source": [
    "# Audio"
   ]
  },
  {
   "cell_type": "code",
   "execution_count": null,
   "id": "2866e186-3c8b-40db-bfed-16a994551f8c",
   "metadata": {},
   "outputs": [],
   "source": [
    "# First check the ffmpeg\n",
    "\n",
    "!ffmpeg -version\n",
    "!ffprobe -version\n",
    "!ffplay -version"
   ]
  },
  {
   "cell_type": "code",
   "execution_count": null,
   "id": "b4a69dda-a0e5-4b4a-b52c-10ddabd68b7a",
   "metadata": {},
   "outputs": [],
   "source": [
    "def talker(message):\n",
    "    response = openai.audio.speech.create(\n",
    "        model=\"tts-1\",\n",
    "        voice=\"onyx\",\n",
    "        input=message)\n",
    "\n",
    "    audio_stream = BytesIO(response.content)\n",
    "    output_filename = \"output_audio.mp3\"\n",
    "    with open(output_filename, \"wb\") as f:\n",
    "        f.write(audio_stream.read())\n",
    "\n",
    "    # Play the generated audio\n",
    "    display(Audio(output_filename, autoplay=True))\n",
    "\n",
    "talker(\"Hi from Turkey!\")"
   ]
  },
  {
   "cell_type": "code",
   "execution_count": null,
   "id": "6beb442e-91bc-4ce3-80a3-93dea74584c2",
   "metadata": {},
   "outputs": [],
   "source": []
  }
 ],
 "metadata": {
  "kernelspec": {
   "display_name": "Python 3 (ipykernel)",
   "language": "python",
   "name": "python3"
  },
  "language_info": {
   "codemirror_mode": {
    "name": "ipython",
    "version": 3
   },
   "file_extension": ".py",
   "mimetype": "text/x-python",
   "name": "python",
   "nbconvert_exporter": "python",
   "pygments_lexer": "ipython3",
   "version": "3.11.11"
  }
 },
 "nbformat": 4,
 "nbformat_minor": 5
}
